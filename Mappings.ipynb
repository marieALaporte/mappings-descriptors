{
 "cells": [
  {
   "cell_type": "markdown",
   "metadata": {},
   "source": [
    "To run this example, you need to install:\n",
    "    - python3\n",
    "    - jupyter\n",
    "    - the followign pyhton libraries (using pip): openpyxl, cfuzzyset\n",
    "    - save the ontogies files in the jupyter notebook folder"
   ]
  },
  {
   "cell_type": "markdown",
   "metadata": {},
   "source": [
    "## Create the mappings between the descriptors and TO or CO"
   ]
  },
  {
   "cell_type": "code",
   "execution_count": 189,
   "metadata": {
    "collapsed": false
   },
   "outputs": [],
   "source": [
    "import openpyxl\n",
    "import json\n",
    "import time\n",
    "from cfuzzyset import cFuzzySet as FuzzySet\n",
    "from IPython.core.display import HTML\n",
    "import d3_lib\n",
    "import re\n",
    "import urllib.request"
   ]
  },
  {
   "cell_type": "markdown",
   "metadata": {},
   "source": [
    "#### Import your excel file"
   ]
  },
  {
   "cell_type": "code",
   "execution_count": 180,
   "metadata": {
    "collapsed": true
   },
   "outputs": [],
   "source": [
    "## path to the file containing the descriptor information and list\n",
    "## CHANGE THE PATH HERE\n",
    "path = \"/Users/marie-angeliquelaporte/Downloads/descriptorlist_WorldVeg.xlsx\""
   ]
  },
  {
   "cell_type": "code",
   "execution_count": 181,
   "metadata": {
    "collapsed": false
   },
   "outputs": [],
   "source": [
    "# open the file\n",
    "wb = openpyxl.load_workbook(path)"
   ]
  },
  {
   "cell_type": "code",
   "execution_count": 182,
   "metadata": {
    "collapsed": false
   },
   "outputs": [],
   "source": [
    "# get to the desfriptors sheet - change the name of the sheet if necessary\n",
    "worksheet = wb.get_sheet_by_name('descriptors')"
   ]
  },
  {
   "cell_type": "code",
   "execution_count": 183,
   "metadata": {
    "collapsed": false
   },
   "outputs": [],
   "source": [
    "# get the descriptors names\n",
    "descriptors = []\n",
    "descriptorsList = []\n",
    "#test = []\n",
    "#iterate over the rows in the specific column, here B = Title\n",
    "for row in range(2,worksheet.max_row+1):  \n",
    "    for column in \"B\":  #Here you can change the column you want to do the mapping on\n",
    "        cell_name = \"{}{}\".format(column, row)\n",
    "        value = worksheet[cell_name].value # the value of the specific cell\n",
    "        descriptors.append(value)\n",
    "\n",
    "#clean the descriptors list\n",
    "for descriptor in descriptors:\n",
    "    clean = re.sub('[!@#$.:,]', '', descriptor)\n",
    "    clean = re.split('\\(', clean)[0]\n",
    "    clean = clean.strip()\n",
    "    descriptorsList.append({\"descriptor\": descriptor, \"clean\": clean })\n"
   ]
  },
  {
   "cell_type": "code",
   "execution_count": 184,
   "metadata": {
    "collapsed": false,
    "scrolled": true
   },
   "outputs": [
    {
     "name": "stdout",
     "output_type": "stream",
     "text": [
      "[{'descriptor': 'Panicle: length (late observation)', 'clean': 'Panicle length'}, {'descriptor': 'tutu', 'clean': 'tutu'}, {'descriptor': 'toto', 'clean': 'toto'}, {'descriptor': 'Panicle length', 'clean': 'Panicle length'}, {'descriptor': 'Panicle: length', 'clean': 'Panicle length'}]\n"
     ]
    }
   ],
   "source": [
    "#print the descriptor list\n",
    "print(descriptorsList)"
   ]
  },
  {
   "cell_type": "markdown",
   "metadata": {},
   "source": [
    "#### Load the ontology"
   ]
  },
  {
   "cell_type": "code",
   "execution_count": 185,
   "metadata": {
    "collapsed": false
   },
   "outputs": [],
   "source": [
    "# list of the possible ontologies : all CO and TO\n",
    "## CHANGE HERE the name of ontologie you want to map the descriptors to: e.g. CO_320.json if rice, to.json if TO, ...\n",
    "ontoLabels = []\n",
    "ontoDict = {}\n",
    "with open('data/CO_320.json') as data_file:\n",
    "    onto = json.load(data_file)\n",
    "    \n",
    "    results = onto[\"results\"][\"bindings\"]\n",
    "    for entry in results:\n",
    "        if \"to\" in entry:\n",
    "            uri = entry[\"to\"][\"value\"]\n",
    "            label = entry[\"label\"][\"value\"]\n",
    "            ontoLabels.append(label)\n",
    "            ontoDict[label] = uri\n",
    "        else: \n",
    "            uri = entry[\"co\"][\"value\"]\n",
    "            label = entry[\"label\"][\"value\"]\n",
    "            ontoLabels.append(label)\n",
    "            ontoDict[label] = uri"
   ]
  },
  {
   "cell_type": "markdown",
   "metadata": {},
   "source": [
    "#### Create the mappings"
   ]
  },
  {
   "cell_type": "code",
   "execution_count": 186,
   "metadata": {
    "collapsed": false
   },
   "outputs": [
    {
     "name": "stdout",
     "output_type": "stream",
     "text": [
      "--- 0.00042891502380371094 seconds ---\n"
     ]
    }
   ],
   "source": [
    "##MAPPINGS CREATION\n",
    "mappings = []\n",
    "a=FuzzySet() # allocate the FuzzySet object\n",
    "\n",
    "for e in ontoLabels:\n",
    "    a.add(e)\n",
    "    \n",
    "start_time = time.time() # Start recording the time\n",
    "\n",
    "for names in descriptorsList:\n",
    "    if names[\"clean\"]:\n",
    "        if a.get(names[\"clean\"])[0][0] > 0.6:  ##### CHANGE THE THRESHOLD HERE\n",
    "            mappings.append({\"descriptor\": names[\"descriptor\"], \"onto label\": a.get(names[\"clean\"])[0][1] , \"score\": a.get(names[\"clean\"])[0][0] , \"uri\": ontoDict[a.get(names[\"clean\"])[0][1]]})\n",
    "        else: \n",
    "            mappings.append({\"descriptor\": names[\"descriptor\"], \"onto label\": \"\" , \"score\": \"\" , \"uri\": \"\"})\n",
    "print(\"--- %s seconds ---\" % (time.time() - start_time)) \n",
    "    \n",
    "#print(mappings)"
   ]
  },
  {
   "cell_type": "markdown",
   "metadata": {},
   "source": [
    "## Results"
   ]
  },
  {
   "cell_type": "code",
   "execution_count": 187,
   "metadata": {
    "collapsed": false
   },
   "outputs": [
    {
     "data": {
      "text/html": [
       "<style>td, th {\n",
       "  padding: 1px 4px;\n",
       "}</style><script src=\"lib/d3/d3.min.js\"></script>\n",
       "    \n",
       "                <div id='maindiv4217490920'></div>\n",
       "                \n",
       "                <script>\n",
       "                      var data = [{'uri': 'http://www.cropontology.org/rdf/CO_320:0000033', 'score': 1, 'descriptor': 'Panicle: length (late observation)', 'onto label': 'panicle length'}, {'uri': '', 'score': '', 'descriptor': 'tutu', 'onto label': ''}, {'uri': '', 'score': '', 'descriptor': 'toto', 'onto label': ''}, {'uri': 'http://www.cropontology.org/rdf/CO_320:0000033', 'score': 1, 'descriptor': 'Panicle length', 'onto label': 'panicle length'}, {'uri': 'http://www.cropontology.org/rdf/CO_320:0000033', 'score': 1, 'descriptor': 'Panicle: length', 'onto label': 'panicle length'}]\n",
       "\n",
       "  function tabulate(data, columns) {\n",
       "\t\tvar table = d3.select('#maindiv4217490920').append('table')\n",
       "\t\tvar thead = table.append('thead')\n",
       "\t\tvar\ttbody = table.append('tbody');\n",
       "\n",
       "\t\t// append the header row\n",
       "\t\tthead.append('tr')\n",
       "\t\t  .selectAll('th')\n",
       "\t\t  .data(columns).enter()\n",
       "\t\t  .append('th')\n",
       "\t\t    .text(function (column) { return column; });\n",
       "\n",
       "\t\t// create a row for each object in the data\n",
       "\t\tvar rows = tbody.selectAll('tr')\n",
       "\t\t  .data(data)\n",
       "\t\t  .enter()\n",
       "\t\t  .append('tr');\n",
       "\n",
       "\t\t// create a cell in each row for each column\n",
       "\t\tvar cells = rows.selectAll('td')\n",
       "\t\t  .data(function (row) {\n",
       "\t\t    return columns.map(function (column) {\n",
       "\t\t      return {column: column, value: row[column]};\n",
       "\t\t    });\n",
       "\t\t  })\n",
       "\t\t  .enter()\n",
       "\t\t  .append('td')\n",
       "\t\t    .text(function (d) { return d.value; });\n",
       "\n",
       "\t  return table;\n",
       "\t}\n",
       "\n",
       "\t// render the table(s)\n",
       "\ttabulate(data, ['descriptor', 'uri', 'onto label', 'score']); // 2 column table\n",
       "\n",
       "                </script>\n",
       "\n",
       "                "
      ],
      "text/plain": [
       "<IPython.core.display.HTML object>"
      ]
     },
     "execution_count": 187,
     "metadata": {},
     "output_type": "execute_result"
    }
   ],
   "source": [
    "#display results as a Table\n",
    "# visualization using d3.js\n",
    "HTML(d3_lib.set_styles(['table']) + \n",
    "'<script src=\"lib/d3/d3.min.js\"></script>' + \n",
    "      d3_lib.draw_graph('table', {'data': mappings}) )"
   ]
  },
  {
   "cell_type": "markdown",
   "metadata": {},
   "source": [
    "## Help - CO IDs"
   ]
  },
  {
   "cell_type": "code",
   "execution_count": 192,
   "metadata": {
    "collapsed": false
   },
   "outputs": [
    {
     "name": "stdout",
     "output_type": "stream",
     "text": [
      "[\n",
      "  {\n",
      "    \"name\": \"Banana\",\n",
      "    \"id\": \"CO_325\"\n",
      "  },\n",
      "  {\n",
      "    \"name\": \"Barley Trait Dictionary\",\n",
      "    \"id\": \"CO_323\"\n",
      "  },\n",
      "  {\n",
      "    \"name\": \"Brachiaria\",\n",
      "    \"id\": \"CO_345\"\n",
      "  },\n",
      "  {\n",
      "    \"name\": \"Cassava\",\n",
      "    \"id\": \"CO_334\"\n",
      "  },\n",
      "  {\n",
      "    \"name\": \"Castor bean\",\n",
      "    \"id\": \"CO_347\"\n",
      "  },\n",
      "  {\n",
      "    \"name\": \"Chickpea\",\n",
      "    \"id\": \"CO_338\"\n",
      "  },\n",
      "  {\n",
      "    \"name\": \"Common bean\",\n",
      "    \"id\": \"CO_335\"\n",
      "  },\n",
      "  {\n",
      "    \"name\": \"Cowpea\",\n",
      "    \"id\": \"CO_340\"\n",
      "  },\n",
      "  {\n",
      "    \"name\": \"Groundnut\",\n",
      "    \"id\": \"CO_337\"\n",
      "  },\n",
      "  {\n",
      "    \"name\": \"Lentil\",\n",
      "    \"id\": \"CO_339\"\n",
      "  },\n",
      "  {\n",
      "    \"name\": \"Maize\",\n",
      "    \"id\": \"CO_322\"\n",
      "  },\n",
      "  {\n",
      "    \"name\": \"Mungbean\",\n",
      "    \"id\": \"CO_346\"\n",
      "  },\n",
      "  {\n",
      "    \"name\": \"Oat\",\n",
      "    \"id\": \"CO_350\"\n",
      "  },\n",
      "  {\n",
      "    \"name\": \"Pearl millet\",\n",
      "    \"id\": \"CO_327\"\n",
      "  },\n",
      "  {\n",
      "    \"name\": \"Pigeonpea\",\n",
      "    \"id\": \"CO_341\"\n",
      "  },\n",
      "  {\n",
      "    \"name\": \"Potato\",\n",
      "    \"id\": \"CO_330\"\n",
      "  },\n",
      "  {\n",
      "    \"name\": \"Rice\",\n",
      "    \"id\": \"CO_320\"\n",
      "  },\n",
      "  {\n",
      "    \"name\": \"Sorghum\",\n",
      "    \"id\": \"CO_324\"\n",
      "  },\n",
      "  {\n",
      "    \"name\": \"Soybean\",\n",
      "    \"id\": \"CO_336\"\n",
      "  },\n",
      "  {\n",
      "    \"name\": \"Sweet Potato\",\n",
      "    \"id\": \"CO_331\"\n",
      "  },\n",
      "  {\n",
      "    \"name\": \"Wheat\",\n",
      "    \"id\": \"CO_321\"\n",
      "  },\n",
      "  {\n",
      "    \"name\": \"Yam\",\n",
      "    \"id\": \"CO_343\"\n",
      "  }\n",
      "]\n"
     ]
    }
   ],
   "source": [
    "#CO cheat list\n",
    "## list the CO IDs\n",
    "url = \"http://www.cropontology.org/get-ontologies\"\n",
    "r = urllib.request.urlopen(url)\n",
    "data = json.loads(r.read().decode(r.info().get_param('charset') or 'utf-8'))\n",
    "\n",
    "ontologies = data[\"300-499 Phenotype and Trait Ontology\"]\n",
    "ontologyList = []\n",
    "for ontology in ontologies:\n",
    "    if \"CO_\" in ontology[\"ontology_id\"]:\n",
    "        ontologyList.append({\"id\": ontology[\"ontology_id\"] ,\"name\": ontology[\"ontology_name\"]})\n",
    "\n",
    "print(json.dumps(ontologyList, indent=2))\n",
    "   "
   ]
  },
  {
   "cell_type": "code",
   "execution_count": null,
   "metadata": {
    "collapsed": true
   },
   "outputs": [],
   "source": []
  }
 ],
 "metadata": {
  "kernelspec": {
   "display_name": "Python 3",
   "language": "python",
   "name": "python3"
  },
  "language_info": {
   "codemirror_mode": {
    "name": "ipython",
    "version": 3
   },
   "file_extension": ".py",
   "mimetype": "text/x-python",
   "name": "python",
   "nbconvert_exporter": "python",
   "pygments_lexer": "ipython3",
   "version": "3.5.2"
  }
 },
 "nbformat": 4,
 "nbformat_minor": 1
}
