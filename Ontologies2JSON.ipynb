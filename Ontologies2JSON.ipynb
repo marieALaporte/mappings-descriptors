{
 "cells": [
  {
   "cell_type": "markdown",
   "metadata": {},
   "source": [
    "### export the labels of the ontologies to json\n",
    "\n",
    "require ARQ (Jena).Jena can be installed on mac using homebrew"
   ]
  },
  {
   "cell_type": "code",
   "execution_count": 65,
   "metadata": {
    "collapsed": true
   },
   "outputs": [],
   "source": [
    "import urllib.request\n",
    "import json"
   ]
  },
  {
   "cell_type": "markdown",
   "metadata": {},
   "source": [
    "### Trait Ontologie: TO"
   ]
  },
  {
   "cell_type": "code",
   "execution_count": 5,
   "metadata": {
    "collapsed": true
   },
   "outputs": [],
   "source": [
    "%%script bash\n",
    "\n",
    "arq --results JSON --data https://raw.githubusercontent.com/Planteome/plant-trait-ontology/master/plant-trait-ontology.obo.owl '\n",
    "PREFIX rdf: <http://www.w3.org/1999/02/22-rdf-syntax-ns#>  \n",
    "PREFIX rdfs: <http://www.w3.org/2000/01/rdf-schema#>  \n",
    "PREFIX owl: <http://www.w3.org/2002/07/owl#> \n",
    "PREFIX oio: <http://www.geneontology.org/formats/oboInOwl#>  \n",
    "PREFIX obo: <http://purl.obolibrary.org/obo/> \n",
    "        \n",
    "SELECT ?label ?to \n",
    "WHERE {\n",
    "    { ?to rdfs:label ?label }\n",
    "    UNION\n",
    "    { ?to oio:hasExactSynonym ?label }\n",
    "    UNION\n",
    "    { ?to oio:hasRelatedSynonym ?label }\n",
    "    UNION\n",
    "    { ?to oio:hasNarrowSynonym ?label }\n",
    "    UNION\n",
    "    { ?to oio:hasBroadSynonym ?label }\n",
    "    \n",
    "}\n",
    "'>data/to.json"
   ]
  },
  {
   "cell_type": "markdown",
   "metadata": {},
   "source": [
    "### Crop Ontology: CO"
   ]
  },
  {
   "cell_type": "code",
   "execution_count": 68,
   "metadata": {
    "collapsed": false
   },
   "outputs": [
    {
     "name": "stdout",
     "output_type": "stream",
     "text": [
      "[\n",
      "  {\n",
      "    \"name\": \"Banana\",\n",
      "    \"id\": \"CO_325\"\n",
      "  },\n",
      "  {\n",
      "    \"name\": \"Barley Trait Dictionary\",\n",
      "    \"id\": \"CO_323\"\n",
      "  },\n",
      "  {\n",
      "    \"name\": \"Brachiaria\",\n",
      "    \"id\": \"CO_345\"\n",
      "  },\n",
      "  {\n",
      "    \"name\": \"Cassava\",\n",
      "    \"id\": \"CO_334\"\n",
      "  },\n",
      "  {\n",
      "    \"name\": \"Castor bean\",\n",
      "    \"id\": \"CO_347\"\n",
      "  },\n",
      "  {\n",
      "    \"name\": \"Chickpea\",\n",
      "    \"id\": \"CO_338\"\n",
      "  },\n",
      "  {\n",
      "    \"name\": \"Common bean\",\n",
      "    \"id\": \"CO_335\"\n",
      "  },\n",
      "  {\n",
      "    \"name\": \"Cowpea\",\n",
      "    \"id\": \"CO_340\"\n",
      "  },\n",
      "  {\n",
      "    \"name\": \"Groundnut\",\n",
      "    \"id\": \"CO_337\"\n",
      "  },\n",
      "  {\n",
      "    \"name\": \"Lentil\",\n",
      "    \"id\": \"CO_339\"\n",
      "  },\n",
      "  {\n",
      "    \"name\": \"Maize\",\n",
      "    \"id\": \"CO_322\"\n",
      "  },\n",
      "  {\n",
      "    \"name\": \"Mungbean\",\n",
      "    \"id\": \"CO_346\"\n",
      "  },\n",
      "  {\n",
      "    \"name\": \"Oat\",\n",
      "    \"id\": \"CO_350\"\n",
      "  },\n",
      "  {\n",
      "    \"name\": \"Pearl millet\",\n",
      "    \"id\": \"CO_327\"\n",
      "  },\n",
      "  {\n",
      "    \"name\": \"Pigeonpea\",\n",
      "    \"id\": \"CO_341\"\n",
      "  },\n",
      "  {\n",
      "    \"name\": \"Potato\",\n",
      "    \"id\": \"CO_330\"\n",
      "  },\n",
      "  {\n",
      "    \"name\": \"Rice\",\n",
      "    \"id\": \"CO_320\"\n",
      "  },\n",
      "  {\n",
      "    \"name\": \"Sorghum\",\n",
      "    \"id\": \"CO_324\"\n",
      "  },\n",
      "  {\n",
      "    \"name\": \"Soybean\",\n",
      "    \"id\": \"CO_336\"\n",
      "  },\n",
      "  {\n",
      "    \"name\": \"Sweet Potato\",\n",
      "    \"id\": \"CO_331\"\n",
      "  },\n",
      "  {\n",
      "    \"name\": \"Wheat\",\n",
      "    \"id\": \"CO_321\"\n",
      "  },\n",
      "  {\n",
      "    \"name\": \"Yam\",\n",
      "    \"id\": \"CO_343\"\n",
      "  }\n",
      "]\n"
     ]
    }
   ],
   "source": [
    "## list the CO IDs\n",
    "url = \"http://www.cropontology.org/get-ontologies\"\n",
    "r = urllib.request.urlopen(url)\n",
    "data = json.loads(r.read().decode(r.info().get_param('charset') or 'utf-8'))\n",
    "\n",
    "ontologies = data[\"300-499 Phenotype and Trait Ontology\"]\n",
    "ontologyList = []\n",
    "for ontology in ontologies:\n",
    "    if \"CO_\" in ontology[\"ontology_id\"]:\n",
    "        ontologyList.append({\"id\": ontology[\"ontology_id\"] ,\"name\": ontology[\"ontology_name\"]})\n",
    "\n",
    "print(json.dumps(ontologyList, indent=2))\n",
    "   "
   ]
  },
  {
   "cell_type": "code",
   "execution_count": 125,
   "metadata": {
    "collapsed": false
   },
   "outputs": [],
   "source": [
    "## which CO do you want to export? specify the CO ID\n",
    "##CHANGE HERE\n",
    "coID = \"CO_343\"\n",
    "coROOT = \"http://www.cropontology.org/rdf/\"+coID+\":ROOT\"\n",
    "#print(coROOT)"
   ]
  },
  {
   "cell_type": "code",
   "execution_count": 123,
   "metadata": {
    "collapsed": false
   },
   "outputs": [
    {
     "data": {
      "text/plain": [
       "('data/temp.owl', <http.client.HTTPMessage at 0x109305668>)"
      ]
     },
     "execution_count": 123,
     "metadata": {},
     "output_type": "execute_result"
    }
   ],
   "source": [
    "## get the CO file from the CO API and save it locally\n",
    "url = \"http://www.cropontology.org/ontology/\"+coID+\"/co/owl\"\n",
    "urllib.request.urlretrieve(url, \"data/temp.owl\")"
   ]
  },
  {
   "cell_type": "code",
   "execution_count": 124,
   "metadata": {
    "collapsed": false
   },
   "outputs": [],
   "source": [
    "%%script bash -s \"$coID\" \"$coROOT\"\n",
    "\n",
    "arq --results JSON --data data/temp.owl '\n",
    "PREFIX rdf: <http://www.w3.org/1999/02/22-rdf-syntax-ns#>  \n",
    "PREFIX rdfs: <http://www.w3.org/2000/01/rdf-schema#>  \n",
    "PREFIX owl: <http://www.w3.org/2002/07/owl#> \n",
    "PREFIX oio: <http://www.geneontology.org/formats/oboInOwl#>  \n",
    "PREFIX obo: <http://purl.obolibrary.org/obo/>\n",
    "PREFIX skos: <http://www.w3.org/2004/02/skos/core#>\n",
    "        \n",
    "SELECT ?label ?co \n",
    "WHERE {\n",
    "    { ?co rdfs:label ?label . ?co rdfs:subClassOf* <'$2'> }\n",
    "    UNION\n",
    "    { ?co skos:altLabel ?label . ?co rdfs:subClassOf* <'$2'> }\n",
    "    \n",
    "}\n",
    "'>data/$1.json"
   ]
  }
 ],
 "metadata": {
  "kernelspec": {
   "display_name": "Python 3",
   "language": "python",
   "name": "python3"
  },
  "language_info": {
   "codemirror_mode": {
    "name": "ipython",
    "version": 3
   },
   "file_extension": ".py",
   "mimetype": "text/x-python",
   "name": "python",
   "nbconvert_exporter": "python",
   "pygments_lexer": "ipython3",
   "version": "3.5.2"
  }
 },
 "nbformat": 4,
 "nbformat_minor": 1
}
